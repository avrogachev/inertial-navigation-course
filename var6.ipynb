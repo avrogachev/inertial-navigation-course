{
 "cells": [
  {
   "cell_type": "markdown",
   "metadata": {},
   "source": [
    "Пусть заданы гринвичские координаты $ η_1 , η_2 , η_3 $ :\n",
    "$$ 2550804.91, 2460159.42, 5285668.08 м.$$\n",
    "Вычислите для этих координат значения географических и геоцентрических координат. Приведите код программы."
   ]
  },
  {
   "cell_type": "code",
   "execution_count": null,
   "metadata": {},
   "outputs": [],
   "source": []
  },
  {
   "cell_type": "markdown",
   "metadata": {},
   "source": [
    "Пусть заданы географические координаты — долгота, широта, высота:\n",
    "$$\\lambda = 0^◦ 16' 46.6381'' ,\n",
    "\\varphi = 51^◦ 33' 21.1362'' ,\n",
    "h = 428.923 м.$$\n",
    "Вычислите для этих координат значение вектора удельной силы тяготения двумя\n",
    "способами — через формулу Гельмерта и модель ГЛОНАСС. Сравните результаты\n",
    "в осях географического трехгранника."
   ]
  },
  {
   "cell_type": "code",
   "execution_count": null,
   "metadata": {},
   "outputs": [],
   "source": []
  },
  {
   "cell_type": "markdown",
   "metadata": {},
   "source": [
    "Вычислите с точностью до $e^6$ модули радиусов кривизны $R_E, R_N$ . Сравните приближенные значения с точными, используя географические координаты из предыдущей\n",
    "задачи."
   ]
  },
  {
   "cell_type": "code",
   "execution_count": null,
   "metadata": {},
   "outputs": [],
   "source": []
  },
  {
   "cell_type": "markdown",
   "metadata": {},
   "source": [
    "Вычислите кватернион ориентации приборного трехгранника $Ms$ относительно грин-\n",
    "вичского трехгранника $Oη$."
   ]
  },
  {
   "cell_type": "code",
   "execution_count": null,
   "metadata": {},
   "outputs": [],
   "source": []
  },
  {
   "cell_type": "markdown",
   "metadata": {},
   "source": [
    "Приведите расчетные формулы (по Сэвиджу) для двухшагового метода в задаче\n",
    "ориентации (в скалярной форме)."
   ]
  },
  {
   "cell_type": "code",
   "execution_count": null,
   "metadata": {},
   "outputs": [],
   "source": []
  }
 ],
 "metadata": {
  "kernelspec": {
   "display_name": "Python 3",
   "language": "python",
   "name": "python3"
  },
  "language_info": {
   "codemirror_mode": {
    "name": "ipython",
    "version": 3
   },
   "file_extension": ".py",
   "mimetype": "text/x-python",
   "name": "python",
   "nbconvert_exporter": "python",
   "pygments_lexer": "ipython3",
   "version": "3.7.3"
  }
 },
 "nbformat": 4,
 "nbformat_minor": 2
}
