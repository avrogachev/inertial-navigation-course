{
 "cells": [
  {
   "cell_type": "markdown",
   "metadata": {},
   "source": [
    "Пусть заданы гринвичские координаты $ η_1 , η_2 , η_3 $ :\n",
    "2550804.91, 2460159.42, 5285668.08 м.\n",
    "Вычислите для этих координат значения географических и геоцентрических коор-\n",
    "динат. Приведите код программы.\n",
    "\n",
    "Пусть заданы гринвичские координаты η 1 , η 2 , η 3 :\n",
    "2550804.91, 2460159.42, 5285668.08 м.\n",
    "Вычислите для этих координат значения географических и геоцентрических коор-\n",
    "динат. Приведите код программы.\n"
   ]
  },
  {
   "cell_type": "code",
   "execution_count": null,
   "metadata": {},
   "outputs": [],
   "source": []
  },
  {
   "cell_type": "code",
   "execution_count": null,
   "metadata": {},
   "outputs": [],
   "source": []
  },
  {
   "cell_type": "code",
   "execution_count": null,
   "metadata": {},
   "outputs": [],
   "source": []
  },
  {
   "cell_type": "code",
   "execution_count": null,
   "metadata": {},
   "outputs": [],
   "source": []
  }
 ],
 "metadata": {
  "kernelspec": {
   "display_name": "Python 3",
   "language": "python",
   "name": "python3"
  },
  "language_info": {
   "codemirror_mode": {
    "name": "ipython",
    "version": 3
   },
   "file_extension": ".py",
   "mimetype": "text/x-python",
   "name": "python",
   "nbconvert_exporter": "python",
   "pygments_lexer": "ipython3",
   "version": "3.7.3"
  }
 },
 "nbformat": 4,
 "nbformat_minor": 2
}
